{
  "nbformat": 4,
  "nbformat_minor": 0,
  "metadata": {
    "colab": {
      "provenance": [],
      "authorship_tag": "ABX9TyOn8KreTKDDhWoqj1ZUk8WO",
      "include_colab_link": true
    },
    "kernelspec": {
      "name": "python3",
      "display_name": "Python 3"
    },
    "language_info": {
      "name": "python"
    }
  },
  "cells": [
    {
      "cell_type": "markdown",
      "metadata": {
        "id": "view-in-github",
        "colab_type": "text"
      },
      "source": [
        "<a href=\"https://colab.research.google.com/github/07jasmineshah/Python_project/blob/main/printing_colored_output_in_python.ipynb\" target=\"_parent\"><img src=\"https://colab.research.google.com/assets/colab-badge.svg\" alt=\"Open In Colab\"/></a>"
      ]
    },
    {
      "cell_type": "code",
      "source": [
        "!pip install colorama"
      ],
      "metadata": {
        "colab": {
          "base_uri": "https://localhost:8080/"
        },
        "id": "F8eSFXErXell",
        "outputId": "1e517ab7-eb7e-424a-b99a-fc5bb1625741"
      },
      "execution_count": 5,
      "outputs": [
        {
          "output_type": "stream",
          "name": "stdout",
          "text": [
            "Collecting colorama\n",
            "  Downloading colorama-0.4.6-py2.py3-none-any.whl.metadata (17 kB)\n",
            "Downloading colorama-0.4.6-py2.py3-none-any.whl (25 kB)\n",
            "Installing collected packages: colorama\n",
            "Successfully installed colorama-0.4.6\n"
          ]
        }
      ]
    },
    {
      "cell_type": "code",
      "execution_count": 14,
      "metadata": {
        "id": "S3rSakgDVQ-Q",
        "colab": {
          "base_uri": "https://localhost:8080/"
        },
        "outputId": "a7aee549-957d-478f-ea24-c93b67470217"
      },
      "outputs": [
        {
          "output_type": "stream",
          "name": "stdout",
          "text": [
            "\u001b[31mhello world\n",
            "\u001b[34m hello world\n",
            "\u001b[32mhello world\n",
            "\u001b[33m hello world\n",
            "\u001b[36mhello world\n"
          ]
        }
      ],
      "source": [
        "from colorama import Fore\n",
        "print(Fore.RED + \"hello world\")\n",
        "print(Fore.BLUE + \" hello world\")\n",
        "print(Fore.GREEN + \"hello world\")\n",
        "print(Fore.YELLOW + \" hello world\")\n",
        "print(Fore.CYAN + \"hello world\")"
      ]
    }
  ]
}